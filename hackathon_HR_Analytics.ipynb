{
  "nbformat": 4,
  "nbformat_minor": 0,
  "metadata": {
    "colab": {
      "name": "JanataHack: HR Analytics.ipynb",
      "provenance": [],
      "collapsed_sections": []
    },
    "kernelspec": {
      "name": "python3",
      "display_name": "Python 3"
    }
  },
  "cells": [
    {
      "cell_type": "code",
      "metadata": {
        "id": "dLrgoTO8Q7qK",
        "colab_type": "code",
        "outputId": "9039898e-c907-4592-9f95-74d295ab7b4f",
        "colab": {
          "base_uri": "https://localhost:8080/",
          "height": 580
        }
      },
      "source": [
        "!wget https://datahack-prod.s3.amazonaws.com/test_file/test_KaymcHn.csv\n",
        "!wget https://datahack-prod.s3.amazonaws.com/train_file/train_jqd04QH.csv\n",
        "!wget https://datahack-prod.s3.amazonaws.com/sample_submission/sample_submission_sxfcbdx.csv"
      ],
      "execution_count": 1,
      "outputs": [
        {
          "output_type": "stream",
          "text": [
            "--2020-05-10 17:26:36--  https://datahack-prod.s3.amazonaws.com/test_file/test_KaymcHn.csv\n",
            "Resolving datahack-prod.s3.amazonaws.com (datahack-prod.s3.amazonaws.com)... 52.219.64.116\n",
            "Connecting to datahack-prod.s3.amazonaws.com (datahack-prod.s3.amazonaws.com)|52.219.64.116|:443... connected.\n",
            "HTTP request sent, awaiting response... 200 OK\n",
            "Length: 1453325 (1.4M) [text/csv]\n",
            "Saving to: ‘test_KaymcHn.csv’\n",
            "\n",
            "test_KaymcHn.csv    100%[===================>]   1.39M   919KB/s    in 1.5s    \n",
            "\n",
            "2020-05-10 17:26:39 (919 KB/s) - ‘test_KaymcHn.csv’ saved [1453325/1453325]\n",
            "\n",
            "--2020-05-10 17:26:40--  https://datahack-prod.s3.amazonaws.com/train_file/train_jqd04QH.csv\n",
            "Resolving datahack-prod.s3.amazonaws.com (datahack-prod.s3.amazonaws.com)... 52.219.62.92\n",
            "Connecting to datahack-prod.s3.amazonaws.com (datahack-prod.s3.amazonaws.com)|52.219.62.92|:443... connected.\n",
            "HTTP request sent, awaiting response... 200 OK\n",
            "Length: 1817701 (1.7M) [text/csv]\n",
            "Saving to: ‘train_jqd04QH.csv’\n",
            "\n",
            "train_jqd04QH.csv   100%[===================>]   1.73M  1.16MB/s    in 1.5s    \n",
            "\n",
            "2020-05-10 17:26:43 (1.16 MB/s) - ‘train_jqd04QH.csv’ saved [1817701/1817701]\n",
            "\n",
            "--2020-05-10 17:26:45--  https://datahack-prod.s3.amazonaws.com/sample_submission/sample_submission_sxfcbdx.csv\n",
            "Resolving datahack-prod.s3.amazonaws.com (datahack-prod.s3.amazonaws.com)... 52.219.62.36\n",
            "Connecting to datahack-prod.s3.amazonaws.com (datahack-prod.s3.amazonaws.com)|52.219.62.36|:443... connected.\n",
            "HTTP request sent, awaiting response... 200 OK\n",
            "Length: 115182 (112K) [text/csv]\n",
            "Saving to: ‘sample_submission_sxfcbdx.csv’\n",
            "\n",
            "sample_submission_s 100%[===================>] 112.48K   232KB/s    in 0.5s    \n",
            "\n",
            "2020-05-10 17:26:47 (232 KB/s) - ‘sample_submission_sxfcbdx.csv’ saved [115182/115182]\n",
            "\n"
          ],
          "name": "stdout"
        }
      ]
    },
    {
      "cell_type": "code",
      "metadata": {
        "id": "JZNxBtvfRqay",
        "colab_type": "code",
        "outputId": "396211c6-ca79-4e0c-d0bc-25f807feacea",
        "colab": {
          "base_uri": "https://localhost:8080/",
          "height": 68
        }
      },
      "source": [
        "import numpy as np;\n",
        "import pandas as pd;\n",
        "import seaborn as sns;\n",
        "import matplotlib.pyplot as plt;\n",
        "from sklearn.preprocessing import power_transform\n",
        "from sklearn.preprocessing import MinMaxScaler\n",
        "from sklearn.linear_model import LogisticRegression\n",
        "from sklearn.model_selection import train_test_split\n",
        "from sklearn.ensemble import GradientBoostingClassifier\n",
        "from sklearn.preprocessing import LabelEncoder\n",
        "from sklearn.pipeline import Pipeline\n",
        "from keras.utils import np_utils\n",
        "from keras.wrappers.scikit_learn import KerasClassifier\n",
        "from sklearn.model_selection import KFold\n",
        "from sklearn.model_selection import cross_val_score"
      ],
      "execution_count": 2,
      "outputs": [
        {
          "output_type": "stream",
          "text": [
            "/usr/local/lib/python3.6/dist-packages/statsmodels/tools/_testing.py:19: FutureWarning: pandas.util.testing is deprecated. Use the functions in the public API at pandas.testing instead.\n",
            "  import pandas.util.testing as tm\n",
            "Using TensorFlow backend.\n"
          ],
          "name": "stderr"
        }
      ]
    },
    {
      "cell_type": "code",
      "metadata": {
        "id": "_B1dAEd7RO8b",
        "colab_type": "code",
        "colab": {}
      },
      "source": [
        "test = pd.read_csv('test_KaymcHn.csv')\n",
        "train = pd.read_csv('train_jqd04QH.csv')"
      ],
      "execution_count": 0,
      "outputs": []
    },
    {
      "cell_type": "code",
      "metadata": {
        "id": "qFU19J3xRm4J",
        "colab_type": "code",
        "outputId": "4cd38081-4259-4f23-9a67-1d08dc1b330f",
        "colab": {
          "base_uri": "https://localhost:8080/",
          "height": 107
        }
      },
      "source": [
        "train.head(2)"
      ],
      "execution_count": 4,
      "outputs": [
        {
          "output_type": "execute_result",
          "data": {
            "text/html": [
              "<div>\n",
              "<style scoped>\n",
              "    .dataframe tbody tr th:only-of-type {\n",
              "        vertical-align: middle;\n",
              "    }\n",
              "\n",
              "    .dataframe tbody tr th {\n",
              "        vertical-align: top;\n",
              "    }\n",
              "\n",
              "    .dataframe thead th {\n",
              "        text-align: right;\n",
              "    }\n",
              "</style>\n",
              "<table border=\"1\" class=\"dataframe\">\n",
              "  <thead>\n",
              "    <tr style=\"text-align: right;\">\n",
              "      <th></th>\n",
              "      <th>enrollee_id</th>\n",
              "      <th>city</th>\n",
              "      <th>city_development_index</th>\n",
              "      <th>gender</th>\n",
              "      <th>relevent_experience</th>\n",
              "      <th>enrolled_university</th>\n",
              "      <th>education_level</th>\n",
              "      <th>major_discipline</th>\n",
              "      <th>experience</th>\n",
              "      <th>company_size</th>\n",
              "      <th>company_type</th>\n",
              "      <th>last_new_job</th>\n",
              "      <th>training_hours</th>\n",
              "      <th>target</th>\n",
              "    </tr>\n",
              "  </thead>\n",
              "  <tbody>\n",
              "    <tr>\n",
              "      <th>0</th>\n",
              "      <td>23798</td>\n",
              "      <td>city_149</td>\n",
              "      <td>0.689</td>\n",
              "      <td>Male</td>\n",
              "      <td>Has relevent experience</td>\n",
              "      <td>no_enrollment</td>\n",
              "      <td>Graduate</td>\n",
              "      <td>STEM</td>\n",
              "      <td>3</td>\n",
              "      <td>100-500</td>\n",
              "      <td>Pvt Ltd</td>\n",
              "      <td>1</td>\n",
              "      <td>106</td>\n",
              "      <td>0</td>\n",
              "    </tr>\n",
              "    <tr>\n",
              "      <th>1</th>\n",
              "      <td>29166</td>\n",
              "      <td>city_83</td>\n",
              "      <td>0.923</td>\n",
              "      <td>Male</td>\n",
              "      <td>Has relevent experience</td>\n",
              "      <td>no_enrollment</td>\n",
              "      <td>Graduate</td>\n",
              "      <td>STEM</td>\n",
              "      <td>14</td>\n",
              "      <td>&lt;10</td>\n",
              "      <td>Funded Startup</td>\n",
              "      <td>1</td>\n",
              "      <td>69</td>\n",
              "      <td>0</td>\n",
              "    </tr>\n",
              "  </tbody>\n",
              "</table>\n",
              "</div>"
            ],
            "text/plain": [
              "   enrollee_id      city  ...  training_hours target\n",
              "0        23798  city_149  ...             106      0\n",
              "1        29166   city_83  ...              69      0\n",
              "\n",
              "[2 rows x 14 columns]"
            ]
          },
          "metadata": {
            "tags": []
          },
          "execution_count": 4
        }
      ]
    },
    {
      "cell_type": "code",
      "metadata": {
        "id": "Ui1e-CFAR4Tl",
        "colab_type": "code",
        "outputId": "11a24c5a-bef9-4340-fa42-220b552eb4fd",
        "colab": {
          "base_uri": "https://localhost:8080/",
          "height": 107
        }
      },
      "source": [
        "test.head(2)"
      ],
      "execution_count": 5,
      "outputs": [
        {
          "output_type": "execute_result",
          "data": {
            "text/html": [
              "<div>\n",
              "<style scoped>\n",
              "    .dataframe tbody tr th:only-of-type {\n",
              "        vertical-align: middle;\n",
              "    }\n",
              "\n",
              "    .dataframe tbody tr th {\n",
              "        vertical-align: top;\n",
              "    }\n",
              "\n",
              "    .dataframe thead th {\n",
              "        text-align: right;\n",
              "    }\n",
              "</style>\n",
              "<table border=\"1\" class=\"dataframe\">\n",
              "  <thead>\n",
              "    <tr style=\"text-align: right;\">\n",
              "      <th></th>\n",
              "      <th>enrollee_id</th>\n",
              "      <th>city</th>\n",
              "      <th>city_development_index</th>\n",
              "      <th>gender</th>\n",
              "      <th>relevent_experience</th>\n",
              "      <th>enrolled_university</th>\n",
              "      <th>education_level</th>\n",
              "      <th>major_discipline</th>\n",
              "      <th>experience</th>\n",
              "      <th>company_size</th>\n",
              "      <th>company_type</th>\n",
              "      <th>last_new_job</th>\n",
              "      <th>training_hours</th>\n",
              "    </tr>\n",
              "  </thead>\n",
              "  <tbody>\n",
              "    <tr>\n",
              "      <th>0</th>\n",
              "      <td>16548</td>\n",
              "      <td>city_33</td>\n",
              "      <td>0.448</td>\n",
              "      <td>NaN</td>\n",
              "      <td>No relevent experience</td>\n",
              "      <td>Full time course</td>\n",
              "      <td>Graduate</td>\n",
              "      <td>STEM</td>\n",
              "      <td>&lt;1</td>\n",
              "      <td>1000-4999</td>\n",
              "      <td>Public Sector</td>\n",
              "      <td>NaN</td>\n",
              "      <td>15</td>\n",
              "    </tr>\n",
              "    <tr>\n",
              "      <th>1</th>\n",
              "      <td>12036</td>\n",
              "      <td>city_28</td>\n",
              "      <td>0.939</td>\n",
              "      <td>Male</td>\n",
              "      <td>No relevent experience</td>\n",
              "      <td>no_enrollment</td>\n",
              "      <td>Graduate</td>\n",
              "      <td>STEM</td>\n",
              "      <td>&gt;20</td>\n",
              "      <td>50-99</td>\n",
              "      <td>Pvt Ltd</td>\n",
              "      <td>1</td>\n",
              "      <td>94</td>\n",
              "    </tr>\n",
              "  </tbody>\n",
              "</table>\n",
              "</div>"
            ],
            "text/plain": [
              "   enrollee_id     city  ...  last_new_job training_hours\n",
              "0        16548  city_33  ...           NaN             15\n",
              "1        12036  city_28  ...             1             94\n",
              "\n",
              "[2 rows x 13 columns]"
            ]
          },
          "metadata": {
            "tags": []
          },
          "execution_count": 5
        }
      ]
    },
    {
      "cell_type": "code",
      "metadata": {
        "id": "HdT7iLSSR5yk",
        "colab_type": "code",
        "outputId": "332ef905-9590-4f32-d05d-c6cc508a91ed",
        "colab": {
          "base_uri": "https://localhost:8080/",
          "height": 494
        }
      },
      "source": [
        "train.isnull().sum(),test.isnull().sum(),train.shape,test.shape"
      ],
      "execution_count": 6,
      "outputs": [
        {
          "output_type": "execute_result",
          "data": {
            "text/plain": [
              "(enrollee_id                  0\n",
              " city                         0\n",
              " city_development_index       0\n",
              " gender                    4098\n",
              " relevent_experience          0\n",
              " enrolled_university        342\n",
              " education_level            457\n",
              " major_discipline          2838\n",
              " experience                  59\n",
              " company_size              4779\n",
              " company_type              5039\n",
              " last_new_job               367\n",
              " training_hours               0\n",
              " target                       0\n",
              " dtype: int64, enrollee_id                  0\n",
              " city                         0\n",
              " city_development_index       0\n",
              " gender                    3388\n",
              " relevent_experience          0\n",
              " enrolled_university        279\n",
              " education_level            395\n",
              " major_discipline          2393\n",
              " experience                  44\n",
              " company_size              4051\n",
              " company_type              4330\n",
              " last_new_job               304\n",
              " training_hours               0\n",
              " dtype: int64, (18359, 14), (15021, 13))"
            ]
          },
          "metadata": {
            "tags": []
          },
          "execution_count": 6
        }
      ]
    },
    {
      "cell_type": "code",
      "metadata": {
        "id": "w7CgQ-vQSuq9",
        "colab_type": "code",
        "outputId": "94bd5c84-33af-4b39-b84e-7653f34b99d9",
        "colab": {
          "base_uri": "https://localhost:8080/",
          "height": 221
        }
      },
      "source": [
        "train['training_hours'].value_counts()"
      ],
      "execution_count": 7,
      "outputs": [
        {
          "output_type": "execute_result",
          "data": {
            "text/plain": [
              "28     307\n",
              "12     291\n",
              "18     285\n",
              "20     269\n",
              "22     263\n",
              "      ... \n",
              "244      6\n",
              "234      6\n",
              "272      5\n",
              "238      4\n",
              "286      4\n",
              "Name: training_hours, Length: 241, dtype: int64"
            ]
          },
          "metadata": {
            "tags": []
          },
          "execution_count": 7
        }
      ]
    },
    {
      "cell_type": "code",
      "metadata": {
        "id": "2axeNIbgTLo9",
        "colab_type": "code",
        "outputId": "13071a17-3a22-43a3-8322-9fa8bdbab6fa",
        "colab": {
          "base_uri": "https://localhost:8080/",
          "height": 281
        }
      },
      "source": [
        "train['training_hours'].hist()"
      ],
      "execution_count": 8,
      "outputs": [
        {
          "output_type": "execute_result",
          "data": {
            "text/plain": [
              "<matplotlib.axes._subplots.AxesSubplot at 0x7f9fa6838668>"
            ]
          },
          "metadata": {
            "tags": []
          },
          "execution_count": 8
        },
        {
          "output_type": "display_data",
          "data": {
            "image/png": "[encoded data removed]",
            "text/plain": [
              "<Figure size 432x288 with 1 Axes>"
            ]
          },
          "metadata": {
            "tags": [],
            "needs_background": "light"
          }
        }
      ]
    },
    {
      "cell_type": "code",
      "metadata": {
        "id": "hh5RnCU3TYEL",
        "colab_type": "code",
        "colab": {}
      },
      "source": [
        "train['gender']=train['gender'].fillna(method='bfill')\n",
        "test['gender']=test['gender'].fillna(method='bfill')"
      ],
      "execution_count": 0,
      "outputs": []
    },
    {
      "cell_type": "code",
      "metadata": {
        "id": "pexpbO-IVZbi",
        "colab_type": "code",
        "colab": {}
      },
      "source": [
        "train['enrolled_university']=train['enrolled_university'].fillna(method='bfill')\n",
        "test['enrolled_university']=test['enrolled_university'].fillna(method='bfill')"
      ],
      "execution_count": 0,
      "outputs": []
    },
    {
      "cell_type": "code",
      "metadata": {
        "id": "7KO1b2FEVs33",
        "colab_type": "code",
        "colab": {}
      },
      "source": [
        "train['education_level']=train['education_level'].fillna(method='bfill')\n",
        "test['education_level']=test['education_level'].fillna(method='bfill')"
      ],
      "execution_count": 0,
      "outputs": []
    },
    {
      "cell_type": "code",
      "metadata": {
        "id": "HjS9S2j4aihw",
        "colab_type": "code",
        "colab": {}
      },
      "source": [
        "train['major_discipline']=train['major_discipline'].fillna(method='bfill')\n",
        "test['major_discipline']=test['major_discipline'].fillna(method='bfill')"
      ],
      "execution_count": 0,
      "outputs": []
    },
    {
      "cell_type": "code",
      "metadata": {
        "id": "xXiEzASYat86",
        "colab_type": "code",
        "colab": {}
      },
      "source": [
        "train['experience']=train['experience'].fillna(method='bfill')\n",
        "test['experience']=test['experience'].fillna(method='bfill')"
      ],
      "execution_count": 0,
      "outputs": []
    },
    {
      "cell_type": "code",
      "metadata": {
        "id": "hCOjQE-Hh7Uu",
        "colab_type": "code",
        "colab": {}
      },
      "source": [
        "train['company_size']=train['company_size'].fillna(method='bfill')\n",
        "test['company_size']=test['company_size'].fillna(method='bfill')"
      ],
      "execution_count": 0,
      "outputs": []
    },
    {
      "cell_type": "code",
      "metadata": {
        "id": "yXE7ElcMiJPp",
        "colab_type": "code",
        "colab": {}
      },
      "source": [
        "train['company_type']=train['company_type'].fillna(method='bfill')\n",
        "test['company_type']=test['company_type'].fillna(method='bfill')"
      ],
      "execution_count": 0,
      "outputs": []
    },
    {
      "cell_type": "code",
      "metadata": {
        "id": "noNSK9MLiVU0",
        "colab_type": "code",
        "colab": {}
      },
      "source": [
        "train['last_new_job']=train['last_new_job'].fillna(method='bfill')\n",
        "test['last_new_job']=test['last_new_job'].fillna(method='bfill')"
      ],
      "execution_count": 0,
      "outputs": []
    },
    {
      "cell_type": "code",
      "metadata": {
        "id": "pirheumLkKOQ",
        "colab_type": "code",
        "colab": {}
      },
      "source": [
        "test['major_discipline']=test['major_discipline'].fillna(method='ffill')\n",
        "test['company_size']=test['company_size'].fillna(method='ffill')\n",
        "test['company_type']=test['company_type'].fillna(method='ffill')\n",
        "test['last_new_job']=test['last_new_job'].fillna(method='ffill')"
      ],
      "execution_count": 0,
      "outputs": []
    },
    {
      "cell_type": "code",
      "metadata": {
        "id": "Qfk3jXm8ihd6",
        "colab_type": "code",
        "colab": {}
      },
      "source": [
        "c=['gender','enrolled_university','education_level','major_discipline','experience','company_type','company_size','last_new_job','city','relevent_experience']\n",
        "for i in c:\n",
        "  loc = np.append(train[i].values, test[i].values, axis=0)\n",
        "  from sklearn.preprocessing import LabelEncoder\n",
        "  l=LabelEncoder()\n",
        "  l.fit(list(set(loc)))\n",
        "  train[i]=l.transform(train[i])\n",
        "  test[i]=l.transform(test[i])"
      ],
      "execution_count": 0,
      "outputs": []
    },
    {
      "cell_type": "code",
      "metadata": {
        "id": "IV_23O1Gku0P",
        "colab_type": "code",
        "colab": {}
      },
      "source": [
        "train_df=train"
      ],
      "execution_count": 0,
      "outputs": []
    },
    {
      "cell_type": "code",
      "metadata": {
        "id": "cuOOMwkHjgSp",
        "colab_type": "code",
        "colab": {}
      },
      "source": [
        "X = train_df.drop(labels=['target'], axis=1)\n",
        "y = train_df['target'].values\n",
        "\n",
        "from sklearn.model_selection import train_test_split\n",
        "X_train, X_cv, y_train, y_cv = train_test_split(X, y, test_size=0.15, random_state=42)"
      ],
      "execution_count": 0,
      "outputs": []
    },
    {
      "cell_type": "code",
      "metadata": {
        "id": "MJdc7A5sktgZ",
        "colab_type": "code",
        "outputId": "674bedb5-0a3d-4400-c4ec-17318d04f2e1",
        "colab": {
          "base_uri": "https://localhost:8080/",
          "height": 34
        }
      },
      "source": [
        "X_train.shape, y_train.shape, X_cv.shape, y_cv.shape"
      ],
      "execution_count": 22,
      "outputs": [
        {
          "output_type": "execute_result",
          "data": {
            "text/plain": [
              "((15605, 13), (15605,), (2754, 13), (2754,))"
            ]
          },
          "metadata": {
            "tags": []
          },
          "execution_count": 22
        }
      ]
    },
    {
      "cell_type": "code",
      "metadata": {
        "id": "1VeqIDMFkyhJ",
        "colab_type": "code",
        "colab": {}
      },
      "source": [
        "from math import sqrt \n",
        "from sklearn.metrics import roc_auc_score"
      ],
      "execution_count": 0,
      "outputs": []
    },
    {
      "cell_type": "code",
      "metadata": {
        "id": "jpL8aDb5lABa",
        "colab_type": "code",
        "outputId": "36dc90ca-96c5-4e17-ebbc-b6a9eae2eee9",
        "colab": {
          "base_uri": "https://localhost:8080/",
          "height": 307
        }
      },
      "source": [
        "import lightgbm as lgb\n",
        "train_data = lgb.Dataset(X_train, label=y_train)\n",
        "test_data = lgb.Dataset(X_cv, label=y_cv)\n",
        "\n",
        "param = {'objective': 'regression',\n",
        "         'num_leaves':20,\n",
        "         'boosting': 'dart',  \n",
        "         'metric': 'mae',\n",
        "         'learning_rate': 0.01, \n",
        "         'num_iterations': 1000,\n",
        "         'num_leaves': 80,\n",
        "         'max_depth': 6,\n",
        "         'min_data_in_leaf': 11,\n",
        "         'bagging_fraction': 0.80,\n",
        "         'bagging_freq': 1,\n",
        "         'bagging_seed': 142,\n",
        "         'feature_fraction': 0.80,\n",
        "         'feature_fraction_seed': 2,\n",
        "         'early_stopping_round': 200,\n",
        "         'max_bin': 250\n",
        "         }\n",
        "\n",
        "lgbm = lgb.train(params=param, verbose_eval=100, train_set=train_data, valid_sets=[test_data])\n",
        "\n",
        "y_pred_lgbm = lgbm.predict(X_cv)\n",
        "print('roc_auc_score:', roc_auc_score(y_cv,y_pred_lgbm))"
      ],
      "execution_count": 24,
      "outputs": [
        {
          "output_type": "stream",
          "text": [
            "/usr/local/lib/python3.6/dist-packages/lightgbm/engine.py:118: UserWarning: Found `num_iterations` in params. Will use it instead of argument\n",
            "  warnings.warn(\"Found `{}` in params. Will use it instead of argument\".format(alias))\n",
            "/usr/local/lib/python3.6/dist-packages/lightgbm/engine.py:123: UserWarning: Found `early_stopping_round` in params. Will use it instead of argument\n",
            "  warnings.warn(\"Found `{}` in params. Will use it instead of argument\".format(alias))\n",
            "/usr/local/lib/python3.6/dist-packages/lightgbm/callback.py:189: UserWarning: Early stopping is not available in dart mode\n",
            "  warnings.warn('Early stopping is not available in dart mode')\n"
          ],
          "name": "stderr"
        },
        {
          "output_type": "stream",
          "text": [
            "[100]\tvalid_0's l1: 0.193986\n",
            "[200]\tvalid_0's l1: 0.187547\n",
            "[300]\tvalid_0's l1: 0.194164\n",
            "[400]\tvalid_0's l1: 0.200011\n",
            "[500]\tvalid_0's l1: 0.204621\n",
            "[600]\tvalid_0's l1: 0.205526\n",
            "[700]\tvalid_0's l1: 0.207712\n",
            "[800]\tvalid_0's l1: 0.208612\n",
            "[900]\tvalid_0's l1: 0.21092\n",
            "[1000]\tvalid_0's l1: 0.211637\n",
            "roc_auc_score: 0.6158466024422823\n"
          ],
          "name": "stdout"
        }
      ]
    },
    {
      "cell_type": "code",
      "metadata": {
        "id": "AtfShWwllFhL",
        "colab_type": "code",
        "outputId": "f05a48fa-a8f8-4d85-d1d4-1173c904d9ec",
        "colab": {
          "base_uri": "https://localhost:8080/",
          "height": 728
        }
      },
      "source": [
        "import seaborn as sns\n",
        "feature_imp = pd.DataFrame(sorted(zip(lgbm.feature_importance(), X.columns), reverse=True)[:50], \n",
        "                           columns=['Value','Feature'])\n",
        "plt.figure(figsize=(12, 10))\n",
        "sns.barplot(x=\"Value\", y=\"Feature\", data=feature_imp.sort_values(by=\"Value\", ascending=False))\n",
        "plt.title('LightGBM Features')\n",
        "plt.tight_layout()\n",
        "plt.show()"
      ],
      "execution_count": 25,
      "outputs": [
        {
          "output_type": "display_data",
          "data": {
            "image/png": "[encoded data removed]",
            "text/plain": [
              "<Figure size 864x720 with 1 Axes>"
            ]
          },
          "metadata": {
            "tags": [],
            "needs_background": "light"
          }
        }
      ]
    },
    {
      "cell_type": "code",
      "metadata": {
        "id": "l3XnriLVlitq",
        "colab_type": "code",
        "colab": {}
      },
      "source": [
        "Xtest = test"
      ],
      "execution_count": 0,
      "outputs": []
    },
    {
      "cell_type": "code",
      "metadata": {
        "id": "ZiHEPpUFlnlT",
        "colab_type": "code",
        "outputId": "6e3cc1e6-97d3-4869-eac9-77a52dc590fd",
        "colab": {
          "base_uri": "https://localhost:8080/",
          "height": 529
        }
      },
      "source": [
        "from sklearn.model_selection import KFold\n",
        "from lightgbm import LGBMRegressor\n",
        "\n",
        "errlgb = []\n",
        "y_pred_totlgb = []\n",
        "\n",
        "fold = KFold(n_splits=\n",
        "             30, shuffle=True, random_state=101)\n",
        "\n",
        "for train_index, test_index in fold.split(X):\n",
        "    X_train, X_test = X.loc[train_index], X.loc[test_index]\n",
        "    y_train, y_test = y[train_index], y[test_index]\n",
        "\n",
        "    lgbm = LGBMRegressor(boosting_type='gbdt', num_leaves=100, max_depth=31, learning_rate=0.01, n_estimators=1000, min_child_samples=20, subsample=0.80)\n",
        "    lgbm.fit(X_train, y_train, eval_set=[(X_test, y_test)], verbose=0, early_stopping_rounds=100)\n",
        "\n",
        "    y_pred_lgbm = lgbm.predict(X_test)\n",
        "    print(\"roc_auc_score: \", roc_auc_score(y_test, y_pred_lgbm))\n",
        "\n",
        "    errlgb.append(roc_auc_score(y_test, y_pred_lgbm))\n",
        "    p = lgbm.predict(Xtest)\n",
        "    y_pred_totlgb.append(p)"
      ],
      "execution_count": 34,
      "outputs": [
        {
          "output_type": "stream",
          "text": [
            "roc_auc_score:  0.5435010362812307\n",
            "roc_auc_score:  0.6592757980369618\n",
            "roc_auc_score:  0.6058079032484882\n",
            "roc_auc_score:  0.6405707841776542\n",
            "roc_auc_score:  0.6154513888888888\n",
            "roc_auc_score:  0.6776489193463363\n",
            "roc_auc_score:  0.6292107685227796\n",
            "roc_auc_score:  0.585623133606892\n",
            "roc_auc_score:  0.5882048872180452\n",
            "roc_auc_score:  0.6136907501150484\n",
            "roc_auc_score:  0.625125572050452\n",
            "roc_auc_score:  0.6136326295900765\n",
            "roc_auc_score:  0.6498604199538779\n",
            "roc_auc_score:  0.6073695977726686\n",
            "roc_auc_score:  0.634773498530986\n",
            "roc_auc_score:  0.5607989614412281\n",
            "roc_auc_score:  0.6334537493158183\n",
            "roc_auc_score:  0.6522529069767442\n",
            "roc_auc_score:  0.6301792303637321\n",
            "roc_auc_score:  0.6449086802827966\n",
            "roc_auc_score:  0.6540689139776336\n",
            "roc_auc_score:  0.6305287802408723\n",
            "roc_auc_score:  0.6996759622937941\n",
            "roc_auc_score:  0.6265331890331889\n",
            "roc_auc_score:  0.6308022706721592\n",
            "roc_auc_score:  0.6525058528601322\n",
            "roc_auc_score:  0.62089802526961\n",
            "roc_auc_score:  0.6321963227167688\n",
            "roc_auc_score:  0.6549500205395042\n",
            "roc_auc_score:  0.6948878455920707\n"
          ],
          "name": "stdout"
        }
      ]
    },
    {
      "cell_type": "code",
      "metadata": {
        "id": "Oyh8a_dTl6Ob",
        "colab_type": "code",
        "outputId": "aef28574-0c0a-4e73-cb4b-a892fcb27a32",
        "colab": {
          "base_uri": "https://localhost:8080/",
          "height": 34
        }
      },
      "source": [
        "np.mean(errlgb,0)"
      ],
      "execution_count": 35,
      "outputs": [
        {
          "output_type": "execute_result",
          "data": {
            "text/plain": [
              "0.6302795932972146"
            ]
          },
          "metadata": {
            "tags": []
          },
          "execution_count": 35
        }
      ]
    },
    {
      "cell_type": "code",
      "metadata": {
        "id": "RAb0ZlemmR4b",
        "colab_type": "code",
        "outputId": "4fae21c7-0b88-4a7a-9788-196802315990",
        "colab": {
          "base_uri": "https://localhost:8080/",
          "height": 51
        }
      },
      "source": [
        "lgbm_final = np.mean(y_pred_totlgb,0)\n",
        "lgbm_final"
      ],
      "execution_count": 36,
      "outputs": [
        {
          "output_type": "execute_result",
          "data": {
            "text/plain": [
              "array([0.29944708, 0.10233257, 0.15304055, ..., 0.13517524, 0.21044433,\n",
              "       0.19856501])"
            ]
          },
          "metadata": {
            "tags": []
          },
          "execution_count": 36
        }
      ]
    },
    {
      "cell_type": "code",
      "metadata": {
        "id": "SeF5ww2EmVX4",
        "colab_type": "code",
        "outputId": "1a82c6fb-2c99-4d2b-b241-3a76b215b239",
        "colab": {
          "base_uri": "https://localhost:8080/",
          "height": 256
        }
      },
      "source": [
        "submission = pd.DataFrame({\n",
        "        \"enrollee_id\": test['enrollee_id'],\n",
        "        \"target\": lgbm_final\n",
        "    })\n",
        "submission.to_csv('./submission.csv', index=False)\n",
        "print(submission)"
      ],
      "execution_count": 37,
      "outputs": [
        {
          "output_type": "stream",
          "text": [
            "       enrollee_id    target\n",
            "0            16548  0.299447\n",
            "1            12036  0.102333\n",
            "2            11061  0.153041\n",
            "3             5032  0.117627\n",
            "4            17599  0.141437\n",
            "...            ...       ...\n",
            "15016        11308  0.113977\n",
            "15017        14612  0.269329\n",
            "15018        33346  0.135175\n",
            "15019        14506  0.210444\n",
            "15020        32641  0.198565\n",
            "\n",
            "[15021 rows x 2 columns]\n"
          ],
          "name": "stdout"
        }
      ]
    },
    {
      "cell_type": "code",
      "metadata": {
        "id": "IIuKIun1mfsC",
        "colab_type": "code",
        "colab": {}
      },
      "source": [
        "from google.colab import files\n",
        "files.download('submission.csv')"
      ],
      "execution_count": 0,
      "outputs": []
    },
    {
      "cell_type": "code",
      "metadata": {
        "id": "FkLYeQMvmi3r",
        "colab_type": "code",
        "outputId": "475a211e-4ab0-4104-8213-4d5870b4ab9f",
        "colab": {
          "base_uri": "https://localhost:8080/",
          "height": 375
        }
      },
      "source": [
        "from sklearn.ensemble import GradientBoostingRegressor\n",
        "gb = GradientBoostingRegressor(verbose=1, learning_rate=0.01, n_estimators=100, random_state=101, subsample=0.8, loss='ls')\n",
        "gb.fit(X_train, y_train)\n",
        "y_pred = gb.predict(X_cv)\n",
        "print('score', roc_auc_score(y_cv, y_pred))"
      ],
      "execution_count": 0,
      "outputs": [
        {
          "output_type": "stream",
          "text": [
            "      Iter       Train Loss      OOB Improve   Remaining Time \n",
            "         1           0.1109           0.0000            2.05s\n",
            "         2           0.1112           0.0000            1.88s\n",
            "         3           0.1130           0.0000            1.81s\n",
            "         4           0.1131           0.0001            1.71s\n",
            "         5           0.1115           0.0001            1.65s\n",
            "         6           0.1131           0.0001            1.60s\n",
            "         7           0.1121           0.0000            1.57s\n",
            "         8           0.1118           0.0001            1.54s\n",
            "         9           0.1122           0.0000            1.51s\n",
            "        10           0.1108           0.0000            1.47s\n",
            "        20           0.1115           0.0000            1.26s\n",
            "        30           0.1115           0.0000            1.09s\n",
            "        40           0.1096           0.0000            0.93s\n",
            "        50           0.1108           0.0000            0.77s\n",
            "        60           0.1119           0.0000            0.62s\n",
            "        70           0.1122           0.0000            0.46s\n",
            "        80           0.1086           0.0000            0.31s\n",
            "        90           0.1124           0.0000            0.15s\n",
            "       100           0.1103           0.0000            0.00s\n",
            "score 0.6369660442543326\n"
          ],
          "name": "stdout"
        }
      ]
    },
    {
      "cell_type": "code",
      "metadata": {
        "id": "QNaZafMPnaRs",
        "colab_type": "code",
        "outputId": "d0878030-4fdb-4632-9868-0a8635413f4a",
        "colab": {
          "base_uri": "https://localhost:8080/",
          "height": 728
        }
      },
      "source": [
        "import seaborn as sns\n",
        "feature_imp = pd.DataFrame(sorted(zip(gb.feature_importances_, X.columns), reverse=True)[:60], columns=['Value','Feature'])\n",
        "plt.figure(figsize=(12,10))\n",
        "sns.barplot(x=\"Value\", y=\"Feature\", data=feature_imp.sort_values(by=\"Value\", ascending=False))\n",
        "plt.title('Gradient Boosting Features')\n",
        "plt.tight_layout()\n",
        "plt.show()"
      ],
      "execution_count": 0,
      "outputs": [
        {
          "output_type": "display_data",
          "data": {
            "image/png": "[encoded data removed]",
            "text/plain": [
              "<Figure size 864x720 with 1 Axes>"
            ]
          },
          "metadata": {
            "tags": [],
            "needs_background": "light"
          }
        }
      ]
    },
    {
      "cell_type": "code",
      "metadata": {
        "id": "bRdbVS7_necS",
        "colab_type": "code",
        "colab": {}
      },
      "source": [
        "Xtest = test"
      ],
      "execution_count": 0,
      "outputs": []
    },
    {
      "cell_type": "code",
      "metadata": {
        "id": "rWFy1Xi3njOk",
        "colab_type": "code",
        "outputId": "240c0a67-5221-40ed-cf3c-7f423e789495",
        "colab": {
          "base_uri": "https://localhost:8080/",
          "height": 85
        }
      },
      "source": [
        "from sklearn.model_selection import KFold\n",
        "\n",
        "errgb = []\n",
        "y_pred_totgb = []\n",
        "\n",
        "fold = KFold(n_splits=4, shuffle=True, random_state=101)\n",
        "\n",
        "for train_index, test_index in fold.split(X):\n",
        "    X_train, X_test = X.loc[train_index], X.loc[test_index]\n",
        "    y_train, y_test = y[train_index], y[test_index]\n",
        "             \n",
        "    gb = GradientBoostingRegressor(learning_rate=0.1, n_estimators=100, random_state=101, subsample=0.9)\n",
        "    #gb = GradientBoostingRegressor(learning_rate=0.01, n_estimators=100, random_state=101, subsample=0.8,loss='ls')\n",
        "    gb.fit(X_train, y_train)\n",
        "    y_pred = gb.predict(X_test)\n",
        "    print('Score', roc_auc_score(y_test, y_pred, average='macro', sample_weight=None, max_fpr=None, multi_class='raise', labels=None))\n",
        "\n",
        "    errgb.append(roc_auc_score(y_test, y_pred, average='macro', sample_weight=None, max_fpr=None, multi_class='raise', labels=None))\n",
        "    p = gb.predict(Xtest)\n",
        "    y_pred_totgb.append(p)"
      ],
      "execution_count": 0,
      "outputs": [
        {
          "output_type": "stream",
          "text": [
            "Score 0.6221507917730524\n",
            "Score 0.628660797428911\n",
            "Score 0.6298670738553284\n",
            "Score 0.6209490842555287\n"
          ],
          "name": "stdout"
        }
      ]
    },
    {
      "cell_type": "code",
      "metadata": {
        "id": "3MXCqf7TnvKF",
        "colab_type": "code",
        "outputId": "9f81c2f3-7f02-4f41-e377-e11014abb82c",
        "colab": {
          "base_uri": "https://localhost:8080/",
          "height": 34
        }
      },
      "source": [
        "np.mean(errgb,0)"
      ],
      "execution_count": 0,
      "outputs": [
        {
          "output_type": "execute_result",
          "data": {
            "text/plain": [
              "0.6357409552389904"
            ]
          },
          "metadata": {
            "tags": []
          },
          "execution_count": 129
        }
      ]
    },
    {
      "cell_type": "code",
      "metadata": {
        "id": "V4XD8rdEn997",
        "colab_type": "code",
        "outputId": "7ba81a1f-0813-44a4-cf43-fcf6ff01ec28",
        "colab": {
          "base_uri": "https://localhost:8080/",
          "height": 51
        }
      },
      "source": [
        "cat_final = np.mean(y_pred_totgb,0)\n",
        "cat_final"
      ],
      "execution_count": 0,
      "outputs": [
        {
          "output_type": "execute_result",
          "data": {
            "text/plain": [
              "array([0.50113047, 0.12888452, 0.23286489, ..., 0.13079739, 0.22283007,\n",
              "       0.27185908])"
            ]
          },
          "metadata": {
            "tags": []
          },
          "execution_count": 130
        }
      ]
    },
    {
      "cell_type": "code",
      "metadata": {
        "id": "jvyU69W_oA1S",
        "colab_type": "code",
        "outputId": "cadd830d-9b61-462f-b520-1f2343f3a650",
        "colab": {
          "base_uri": "https://localhost:8080/",
          "height": 256
        }
      },
      "source": [
        "submission = pd.DataFrame({\n",
        "        \"enrollee_id\": test['enrollee_id'],\n",
        "        \"target\": cat_final\n",
        "    })\n",
        "submission.to_csv('./Av1.csv', index=False)\n",
        "print(submission)"
      ],
      "execution_count": 0,
      "outputs": [
        {
          "output_type": "stream",
          "text": [
            "       enrollee_id    target\n",
            "0            16548  0.501130\n",
            "1            12036  0.128885\n",
            "2            11061  0.232865\n",
            "3             5032  0.091858\n",
            "4            17599  0.097448\n",
            "...            ...       ...\n",
            "15016        11308  0.109460\n",
            "15017        14612  0.230871\n",
            "15018        33346  0.130797\n",
            "15019        14506  0.222830\n",
            "15020        32641  0.271859\n",
            "\n",
            "[15021 rows x 2 columns]\n"
          ],
          "name": "stdout"
        }
      ]
    },
    {
      "cell_type": "code",
      "metadata": {
        "id": "ed38mBttoJwR",
        "colab_type": "code",
        "colab": {}
      },
      "source": [
        "from google.colab import files\n",
        "files.download('Av1.csv')"
      ],
      "execution_count": 0,
      "outputs": []
    },
    {
      "cell_type": "code",
      "metadata": {
        "id": "oWHEOJvloOYq",
        "colab_type": "code",
        "colab": {}
      },
      "source": [
        "#test.to_csv('test.csv')"
      ],
      "execution_count": 0,
      "outputs": []
    },
    {
      "cell_type": "code",
      "metadata": {
        "id": "8l2m5FzMppN8",
        "colab_type": "code",
        "colab": {}
      },
      "source": [
        ""
      ],
      "execution_count": 0,
      "outputs": []
    },
    {
      "cell_type": "code",
      "metadata": {
        "id": "QX7c1coevoi2",
        "colab_type": "code",
        "colab": {}
      },
      "source": [
        ""
      ],
      "execution_count": 0,
      "outputs": []
    },
    {
      "cell_type": "markdown",
      "metadata": {
        "id": "F_WK69BFvpZC",
        "colab_type": "text"
      },
      "source": [
        "# Ensemble"
      ]
    },
    {
      "cell_type": "code",
      "metadata": {
        "id": "TAVm2MqFvuEW",
        "colab_type": "code",
        "colab": {
          "base_uri": "https://localhost:8080/",
          "height": 768
        },
        "outputId": "0524a80f-8d30-488c-85ea-643242263c88"
      },
      "source": [
        "!wget https://datahack-prod.s3.amazonaws.com/submissions/janatahack-hr-analytics/842_613210_us_submission_2_wKTIJD2.csv\n",
        "!wget https://datahack-prod.s3.amazonaws.com/submissions/janatahack-hr-analytics/842_613210_us_submission_2.csv\n",
        "!wget https://datahack-prod.s3.amazonaws.com/submissions/janatahack-hr-analytics/842_613210_us_ea492576b8e0.csv\n",
        "!wget https://datahack-prod.s3.amazonaws.com/submissions/janatahack-hr-analytics/842_613210_us_03d546b48fab.csv"
      ],
      "execution_count": 39,
      "outputs": [
        {
          "output_type": "stream",
          "text": [
            "--2020-05-10 18:03:00--  https://datahack-prod.s3.amazonaws.com/submissions/janatahack-hr-analytics/842_613210_us_submission_2_wKTIJD2.csv\n",
            "Resolving datahack-prod.s3.amazonaws.com (datahack-prod.s3.amazonaws.com)... 52.219.66.64\n",
            "Connecting to datahack-prod.s3.amazonaws.com (datahack-prod.s3.amazonaws.com)|52.219.66.64|:443... connected.\n",
            "HTTP request sent, awaiting response... 200 OK\n",
            "Length: 278762 (272K) [application/vnd.ms-excel]\n",
            "Saving to: ‘842_613210_us_submission_2_wKTIJD2.csv’\n",
            "\n",
            "842_613210_us_submi 100%[===================>] 272.23K   273KB/s    in 1.0s    \n",
            "\n",
            "2020-05-10 18:03:02 (273 KB/s) - ‘842_613210_us_submission_2_wKTIJD2.csv’ saved [278762/278762]\n",
            "\n",
            "--2020-05-10 18:03:04--  https://datahack-prod.s3.amazonaws.com/submissions/janatahack-hr-analytics/842_613210_us_submission_2.csv\n",
            "Resolving datahack-prod.s3.amazonaws.com (datahack-prod.s3.amazonaws.com)... 52.219.66.72\n",
            "Connecting to datahack-prod.s3.amazonaws.com (datahack-prod.s3.amazonaws.com)|52.219.66.72|:443... connected.\n",
            "HTTP request sent, awaiting response... 200 OK\n",
            "Length: 382201 (373K) [application/vnd.ms-excel]\n",
            "Saving to: ‘842_613210_us_submission_2.csv’\n",
            "\n",
            "842_613210_us_submi 100%[===================>] 373.24K   375KB/s    in 1.0s    \n",
            "\n",
            "2020-05-10 18:03:06 (375 KB/s) - ‘842_613210_us_submission_2.csv’ saved [382201/382201]\n",
            "\n",
            "--2020-05-10 18:03:07--  https://datahack-prod.s3.amazonaws.com/submissions/janatahack-hr-analytics/842_613210_us_ea492576b8e0.csv\n",
            "Resolving datahack-prod.s3.amazonaws.com (datahack-prod.s3.amazonaws.com)... 52.219.66.72\n",
            "Connecting to datahack-prod.s3.amazonaws.com (datahack-prod.s3.amazonaws.com)|52.219.66.72|:443... connected.\n",
            "HTTP request sent, awaiting response... 200 OK\n",
            "Length: 279017 (272K) [application/vnd.ms-excel]\n",
            "Saving to: ‘842_613210_us_ea492576b8e0.csv’\n",
            "\n",
            "842_613210_us_ea492 100%[===================>] 272.48K   276KB/s    in 1.0s    \n",
            "\n",
            "2020-05-10 18:03:09 (276 KB/s) - ‘842_613210_us_ea492576b8e0.csv’ saved [279017/279017]\n",
            "\n",
            "--2020-05-10 18:03:11--  https://datahack-prod.s3.amazonaws.com/submissions/janatahack-hr-analytics/842_613210_us_03d546b48fab.csv\n",
            "Resolving datahack-prod.s3.amazonaws.com (datahack-prod.s3.amazonaws.com)... 52.219.66.24\n",
            "Connecting to datahack-prod.s3.amazonaws.com (datahack-prod.s3.amazonaws.com)|52.219.66.24|:443... connected.\n",
            "HTTP request sent, awaiting response... 200 OK\n",
            "Length: 278835 (272K) [application/vnd.ms-excel]\n",
            "Saving to: ‘842_613210_us_03d546b48fab.csv’\n",
            "\n",
            "842_613210_us_03d54 100%[===================>] 272.30K   282KB/s    in 1.0s    \n",
            "\n",
            "2020-05-10 18:03:13 (282 KB/s) - ‘842_613210_us_03d546b48fab.csv’ saved [278835/278835]\n",
            "\n"
          ],
          "name": "stdout"
        }
      ]
    },
    {
      "cell_type": "code",
      "metadata": {
        "id": "NrBlf-ZFvucO",
        "colab_type": "code",
        "colab": {}
      },
      "source": [
        "a=pd.read_csv('842_613210_us_submission_2_wKTIJD2.csv')\n",
        "b=pd.read_csv('842_613210_us_submission_2.csv')\n",
        "c=pd.read_csv('842_613210_us_ea492576b8e0.csv')\n",
        "d=pd.read_csv('842_613210_us_03d546b48fab.csv')"
      ],
      "execution_count": 0,
      "outputs": []
    },
    {
      "cell_type": "code",
      "metadata": {
        "id": "xP5lo0rMvuXo",
        "colab_type": "code",
        "colab": {}
      },
      "source": [
        "pt_1=a['target']\n",
        "pt_2=b['target']\n",
        "pt_3=c['target']\n",
        "pt_4=d['target']"
      ],
      "execution_count": 0,
      "outputs": []
    },
    {
      "cell_type": "code",
      "metadata": {
        "id": "dS070ZoAyIrh",
        "colab_type": "code",
        "colab": {}
      },
      "source": [
        "tp=pt_1*0.8+pt_4*0.2\n",
        "#tp = ((pt_1 * 0.3 + pt_4 * 0.7) * 0.3 + pt_1*0.7)*0.65 + pt_4*0.35"
      ],
      "execution_count": 0,
      "outputs": []
    },
    {
      "cell_type": "code",
      "metadata": {
        "id": "UD1UFJvsvuWW",
        "colab_type": "code",
        "colab": {
          "base_uri": "https://localhost:8080/",
          "height": 256
        },
        "outputId": "62befe60-96b7-4b9e-81df-95f66a5b1972"
      },
      "source": [
        "submission = pd.DataFrame({\n",
        "        \"enrollee_id\": a['enrollee_id'],\n",
        "        \"target\": tp\n",
        "    })\n",
        "submission.to_csv('./Av1.csv', index=False)\n",
        "print(submission)"
      ],
      "execution_count": 61,
      "outputs": [
        {
          "output_type": "stream",
          "text": [
            "       enrollee_id    target\n",
            "0            16548  0.438279\n",
            "1            12036  0.090506\n",
            "2            11061  0.270658\n",
            "3             5032  0.053987\n",
            "4            17599  0.068166\n",
            "...            ...       ...\n",
            "15016        11308  0.138771\n",
            "15017        14612  0.307288\n",
            "15018        33346  0.096391\n",
            "15019        14506  0.198704\n",
            "15020        32641  0.245006\n",
            "\n",
            "[15021 rows x 2 columns]\n"
          ],
          "name": "stdout"
        }
      ]
    },
    {
      "cell_type": "code",
      "metadata": {
        "id": "HwjzX_7EvuSz",
        "colab_type": "code",
        "colab": {}
      },
      "source": [
        "from google.colab import files\n",
        "files.download('Av1.csv')"
      ],
      "execution_count": 0,
      "outputs": []
    },
    {
      "cell_type": "code",
      "metadata": {
        "id": "_YmO54T4vuNk",
        "colab_type": "code",
        "colab": {}
      },
      "source": [
        ""
      ],
      "execution_count": 0,
      "outputs": []
    },
    {
      "cell_type": "code",
      "metadata": {
        "id": "Q5xkCv-TvuK6",
        "colab_type": "code",
        "colab": {}
      },
      "source": [
        ""
      ],
      "execution_count": 0,
      "outputs": []
    },
    {
      "cell_type": "code",
      "metadata": {
        "id": "VGfP4cUovuI8",
        "colab_type": "code",
        "colab": {}
      },
      "source": [
        ""
      ],
      "execution_count": 0,
      "outputs": []
    }
  ]
}